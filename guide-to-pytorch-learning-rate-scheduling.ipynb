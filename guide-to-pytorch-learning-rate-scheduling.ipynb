{
 "cells": [
  {
   "cell_type": "code",
   "execution_count": 1,
   "metadata": {
    "_cell_guid": "b1076dfc-b9ad-4769-8c92-a6c4dae69d19",
    "_uuid": "8f2839f25d086af736a60e9eeb907d3b93b6e0e5"
   },
   "outputs": [],
   "source": [
    "import torch\n",
    "import matplotlib.pyplot as plt\n",
    "import numpy as np \n",
    "import pandas as pd"
   ]
  },
  {
   "cell_type": "markdown",
   "metadata": {},
   "source": [
    "\n",
    "# 1. LAMBDA LR\n",
    "\n",
    "Sets the learning rate of each parameter group to the initial lr times a given function. When last_epoch=-1, sets initial lr as lr.\n",
    "\n",
    "$$\n",
    "l r_{\\text {epoch}} = l r_{\\text {initial}} * Lambda(epoch)\n",
    "$$\n"
   ]
  },
  {
   "cell_type": "code",
   "execution_count": 3,
   "metadata": {},
   "outputs": [
    {
     "name": "stdout",
     "output_type": "stream",
     "text": [
      "Factor =  1.0  , Learning Rate =  100.0\n",
      "Factor =  0.65  , Learning Rate =  65.0\n",
      "Factor =  0.423  , Learning Rate =  42.25\n",
      "Factor =  0.275  , Learning Rate =  27.463\n",
      "Factor =  0.179  , Learning Rate =  17.851\n",
      "Factor =  0.116  , Learning Rate =  11.603\n",
      "Factor =  0.075  , Learning Rate =  7.542\n",
      "Factor =  0.049  , Learning Rate =  4.902\n",
      "Factor =  0.032  , Learning Rate =  3.186\n",
      "Factor =  0.021  , Learning Rate =  2.071\n"
     ]
    },
    {
     "data": {
      "text/plain": [
       "[<matplotlib.lines.Line2D at 0x29bd04c24f0>]"
      ]
     },
     "execution_count": 3,
     "metadata": {},
     "output_type": "execute_result"
    },
    {
     "data": {
      "image/png": "[encoded data removed]",
      "text/plain": [
       "<Figure size 432x288 with 1 Axes>"
      ]
     },
     "metadata": {
      "needs_background": "light"
     },
     "output_type": "display_data"
    }
   ],
   "source": [
    "\n",
    "model = torch.nn.Linear(2, 1)\n",
    "optimizer = torch.optim.SGD(model.parameters(), lr=100)\n",
    "lambda1 = lambda epoch: 0.65 ** epoch\n",
    "scheduler = torch.optim.lr_scheduler.LambdaLR(optimizer, lr_lambda=lambda1)\n",
    "\n",
    "\n",
    "lrs = []\n",
    "\n",
    "for i in range(10):\n",
    "    optimizer.step()\n",
    "    lrs.append(optimizer.param_groups[0][\"lr\"])\n",
    "    print(\"Factor = \", round(0.65 ** i,3),\" , Learning Rate = \",round(optimizer.param_groups[0][\"lr\"],3))\n",
    "    scheduler.step()\n",
    "\n",
    "plt.plot(range(10),lrs)"
   ]
  },
  {
   "cell_type": "markdown",
   "metadata": {},
   "source": [
    "# 2. MultiplicativeLR\n",
    "\n",
    "Multiply the learning rate of each parameter group by the factor given in the specified function. When last_epoch=-1, sets initial lr as lr.\n",
    "\n",
    "$$\n",
    "l r_{\\text {epoch}} = l r_{\\text {epoch - 1}} * Lambda(epoch)\n",
    "$$"
   ]
  },
  {
   "cell_type": "code",
   "execution_count": 4,
   "metadata": {},
   "outputs": [
    {
     "name": "stdout",
     "output_type": "stream",
     "text": [
      "Factor =  0.95  , Learning Rate =  100\n",
      "Factor =  0.95  , Learning Rate =  65.0\n",
      "Factor =  0.95  , Learning Rate =  27.462500000000002\n",
      "Factor =  0.95  , Learning Rate =  7.541889062500001\n",
      "Factor =  0.95  , Learning Rate =  1.3462743344628911\n",
      "Factor =  0.95  , Learning Rate =  0.1562069488955407\n",
      "Factor =  0.95  , Learning Rate =  0.011780954793617751\n",
      "Factor =  0.95  , Learning Rate =  0.0005775292516746525\n",
      "Factor =  0.95  , Learning Rate =  1.8402670033873238e-05\n",
      "Factor =  0.95  , Learning Rate =  3.811544977260443e-07\n"
     ]
    },
    {
     "data": {
      "text/plain": [
       "[<matplotlib.lines.Line2D at 0x29bd0567a90>]"
      ]
     },
     "execution_count": 4,
     "metadata": {},
     "output_type": "execute_result"
    },
    {
     "data": {
      "image/png": "[encoded data removed]",
      "text/plain": [
       "<Figure size 432x288 with 1 Axes>"
      ]
     },
     "metadata": {
      "needs_background": "light"
     },
     "output_type": "display_data"
    }
   ],
   "source": [
    "model = torch.nn.Linear(2, 1)\n",
    "optimizer = torch.optim.SGD(model.parameters(), lr=100)\n",
    "lmbda = lambda epoch: 0.65 ** epoch\n",
    "scheduler = torch.optim.lr_scheduler.MultiplicativeLR(optimizer, lr_lambda=lmbda)\n",
    "lrs = []\n",
    "\n",
    "for i in range(10):\n",
    "    optimizer.step()\n",
    "    lrs.append(optimizer.param_groups[0][\"lr\"])\n",
    "    print(\"Factor = \",0.95,\" , Learning Rate = \",optimizer.param_groups[0][\"lr\"])\n",
    "    scheduler.step()\n",
    "\n",
    "plt.plot(range(10),lrs)"
   ]
  },
  {
   "cell_type": "markdown",
   "metadata": {},
   "source": [
    "# 3. StepLR\n",
    "\n",
    "Decays the learning rate of each parameter group by gamma every step_size epochs. Notice that such decay can happen simultaneously with other changes to the learning rate from outside this scheduler. When last_epoch=-1, sets initial lr as lr.\n",
    "\n",
    "$$\n",
    "l r_{\\text {epoch}}=\\left\\{\\begin{array}{ll}\n",
    "Gamma * l r_{\\text {epoch - 1}}, & \\text { if } {\\text {epoch % step_size}}=0 \\\\\n",
    "l r_{\\text {epoch - 1}}, & \\text { otherwise }\n",
    "\\end{array}\\right.\n",
    "$$"
   ]
  },
  {
   "cell_type": "code",
   "execution_count": 5,
   "metadata": {},
   "outputs": [
    {
     "name": "stdout",
     "output_type": "stream",
     "text": [
      "Factor =  1  , Learning Rate =  100\n",
      "Factor =  0.1  , Learning Rate =  100\n",
      "Factor =  1  , Learning Rate =  10.0\n",
      "Factor =  0.1  , Learning Rate =  10.0\n",
      "Factor =  1  , Learning Rate =  1.0\n",
      "Factor =  0.1  , Learning Rate =  1.0\n",
      "Factor =  1  , Learning Rate =  0.1\n",
      "Factor =  0.1  , Learning Rate =  0.1\n",
      "Factor =  1  , Learning Rate =  0.010000000000000002\n",
      "Factor =  0.1  , Learning Rate =  0.010000000000000002\n"
     ]
    },
    {
     "data": {
      "text/plain": [
       "[<matplotlib.lines.Line2D at 0x29bd05c8a30>]"
      ]
     },
     "execution_count": 5,
     "metadata": {},
     "output_type": "execute_result"
    },
    {
     "data": {
      "image/png": "[encoded data removed]",
      "text/plain": [
       "<Figure size 432x288 with 1 Axes>"
      ]
     },
     "metadata": {
      "needs_background": "light"
     },
     "output_type": "display_data"
    }
   ],
   "source": [
    "model = torch.nn.Linear(2, 1)\n",
    "optimizer = torch.optim.SGD(model.parameters(), lr=100)\n",
    "scheduler = torch.optim.lr_scheduler.StepLR(optimizer, step_size=2, gamma=0.1)\n",
    "lrs = []\n",
    "\n",
    "for i in range(10):\n",
    "    optimizer.step()\n",
    "    lrs.append(optimizer.param_groups[0][\"lr\"])\n",
    "    print(\"Factor = \",0.1 if i!=0 and i%2!=0 else 1,\" , Learning Rate = \",optimizer.param_groups[0][\"lr\"])\n",
    "    scheduler.step()\n",
    "\n",
    "plt.plot(range(10),lrs)"
   ]
  },
  {
   "cell_type": "markdown",
   "metadata": {},
   "source": [
    "# 4. MultiStepLR\n",
    "\n",
    "Decays the learning rate of each parameter group by gamma once the number of epoch reaches one of the milestones. Notice that such decay can happen simultaneously with other changes to the learning rate from outside this scheduler. When last_epoch=-1, sets initial lr as lr.\n",
    "\n",
    "$$\n",
    "l r_{\\text {epoch}}=\\left\\{\\begin{array}{ll}\n",
    "Gamma * l r_{\\text {epoch - 1}}, & \\text { if } {\\text{ epoch in [milestones]}} \\\\\n",
    "l r_{\\text {epoch - 1}}, & \\text { otherwise }\n",
    "\\end{array}\\right.\n",
    "$$"
   ]
  },
  {
   "cell_type": "code",
   "execution_count": 6,
   "metadata": {},
   "outputs": [
    {
     "name": "stdout",
     "output_type": "stream",
     "text": [
      "Factor =  1  , Learning Rate =  100\n",
      "Factor =  1  , Learning Rate =  100\n",
      "Factor =  1  , Learning Rate =  100\n",
      "Factor =  1  , Learning Rate =  100\n",
      "Factor =  1  , Learning Rate =  100\n",
      "Factor =  1  , Learning Rate =  100\n",
      "Factor =  0.1  , Learning Rate =  10.0\n",
      "Factor =  1  , Learning Rate =  10.0\n",
      "Factor =  0.1  , Learning Rate =  1.0\n",
      "Factor =  0.1  , Learning Rate =  0.1\n"
     ]
    },
    {
     "data": {
      "text/plain": [
       "[<matplotlib.lines.Line2D at 0x29bd1604370>]"
      ]
     },
     "execution_count": 6,
     "metadata": {},
     "output_type": "execute_result"
    },
    {
     "data": {
      "image/png": "[encoded data removed]",
      "text/plain": [
       "<Figure size 432x288 with 1 Axes>"
      ]
     },
     "metadata": {
      "needs_background": "light"
     },
     "output_type": "display_data"
    }
   ],
   "source": [
    "\n",
    "model = torch.nn.Linear(2, 1)\n",
    "optimizer = torch.optim.SGD(model.parameters(), lr=100)\n",
    "scheduler = torch.optim.lr_scheduler.MultiStepLR(optimizer, milestones=[6,8,9], gamma=0.1)\n",
    "lrs = []\n",
    "\n",
    "for i in range(10):\n",
    "    optimizer.step()\n",
    "    lrs.append(optimizer.param_groups[0][\"lr\"])\n",
    "    print(\"Factor = \",0.1 if i in [6,8,9] else 1,\" , Learning Rate = \",optimizer.param_groups[0][\"lr\"])\n",
    "    scheduler.step()\n",
    "\n",
    "plt.plot(range(10),lrs)"
   ]
  },
  {
   "cell_type": "markdown",
   "metadata": {},
   "source": [
    "# 5. ExponentialLR\n",
    "\n",
    "Decays the learning rate of each parameter group by gamma every epoch. When last_epoch=-1, sets initial lr as lr.\n",
    "\n",
    "$$\n",
    "l r_{\\text {epoch}}= Gamma * l r_{\\text {epoch - 1}}\n",
    "$$\n"
   ]
  },
  {
   "cell_type": "code",
   "execution_count": 7,
   "metadata": {},
   "outputs": [
    {
     "name": "stdout",
     "output_type": "stream",
     "text": [
      "Factor =  0.1  , Learning Rate =  100\n",
      "Factor =  0.1  , Learning Rate =  10.0\n",
      "Factor =  0.1  , Learning Rate =  1.0\n",
      "Factor =  0.1  , Learning Rate =  0.1\n",
      "Factor =  0.1  , Learning Rate =  0.010000000000000002\n",
      "Factor =  0.1  , Learning Rate =  0.0010000000000000002\n",
      "Factor =  0.1  , Learning Rate =  0.00010000000000000003\n",
      "Factor =  0.1  , Learning Rate =  1.0000000000000004e-05\n",
      "Factor =  0.1  , Learning Rate =  1.0000000000000004e-06\n",
      "Factor =  0.1  , Learning Rate =  1.0000000000000005e-07\n"
     ]
    },
    {
     "data": {
      "text/plain": [
       "[<matplotlib.lines.Line2D at 0x29bd1662ca0>]"
      ]
     },
     "execution_count": 7,
     "metadata": {},
     "output_type": "execute_result"
    },
    {
     "data": {
      "image/png": "[encoded data removed]",
      "text/plain": [
       "<Figure size 432x288 with 1 Axes>"
      ]
     },
     "metadata": {
      "needs_background": "light"
     },
     "output_type": "display_data"
    }
   ],
   "source": [
    "\n",
    "model = torch.nn.Linear(2, 1)\n",
    "optimizer = torch.optim.SGD(model.parameters(), lr=100)\n",
    "scheduler = torch.optim.lr_scheduler.ExponentialLR(optimizer, gamma=0.1)\n",
    "lrs = []\n",
    "\n",
    "\n",
    "for i in range(10):\n",
    "    optimizer.step()\n",
    "    lrs.append(optimizer.param_groups[0][\"lr\"])\n",
    "    print(\"Factor = \",0.1,\" , Learning Rate = \",optimizer.param_groups[0][\"lr\"])\n",
    "    scheduler.step()\n",
    "\n",
    "plt.plot(lrs)\n"
   ]
  },
  {
   "cell_type": "markdown",
   "metadata": {},
   "source": [
    "# 6. CosineAnnealingLR\n",
    "\n",
    "Set the learning rate of each parameter group using a cosine annealing schedule.\n",
    "When last_epoch=-1, sets initial lr as lr. Notice that because the schedule is defined recursively, the learning rate can be simultaneously modified outside this scheduler by other operators. If the learning rate is set solely by this scheduler, the learning rate at each step becomes:\n",
    "\n",
    "$$\n",
    "\\eta_{t}=\\eta_{\\min }+\\frac{1}{2}\\left(\\eta_{\\max }-\\eta_{\\min }\\right)\\left(1+\\cos \\left(\\frac{T_{c u r}}{T_{\\max }} \\pi\\right)\\right)\n",
    "$$\n",
    "\n",
    "It has been proposed in SGDR: Stochastic Gradient Descent with Warm Restarts. Note that this only implements the cosine annealing part of SGDR, and not the restarts.https://arxiv.org/abs/1608.03983"
   ]
  },
  {
   "cell_type": "code",
   "execution_count": 8,
   "metadata": {},
   "outputs": [
    {
     "name": "stdout",
     "output_type": "stream",
     "text": [
      "Factor =  0  , Learning Rate =  100\n",
      "Factor =  1  , Learning Rate =  97.55282581475768\n",
      "Factor =  2  , Learning Rate =  90.45084971874736\n",
      "Factor =  3  , Learning Rate =  79.38926261462365\n",
      "Factor =  4  , Learning Rate =  65.45084971874736\n",
      "Factor =  5  , Learning Rate =  49.99999999999999\n",
      "Factor =  6  , Learning Rate =  34.54915028125263\n",
      "Factor =  7  , Learning Rate =  20.610737385376346\n",
      "Factor =  8  , Learning Rate =  9.549150281252633\n",
      "Factor =  9  , Learning Rate =  2.447174185242323\n",
      "Factor =  10  , Learning Rate =  0.0\n",
      "Factor =  11  , Learning Rate =  2.447174185242323\n",
      "Factor =  12  , Learning Rate =  9.54915028125267\n",
      "Factor =  13  , Learning Rate =  20.610737385376428\n",
      "Factor =  14  , Learning Rate =  34.54915028125278\n",
      "Factor =  15  , Learning Rate =  50.00000000000021\n",
      "Factor =  16  , Learning Rate =  65.45084971874765\n",
      "Factor =  17  , Learning Rate =  79.38926261462399\n",
      "Factor =  18  , Learning Rate =  90.45084971874776\n",
      "Factor =  19  , Learning Rate =  97.5528258147581\n",
      "Factor =  20  , Learning Rate =  100.00000000000041\n",
      "Factor =  21  , Learning Rate =  97.55282581475808\n",
      "Factor =  22  , Learning Rate =  90.45084971874778\n",
      "Factor =  23  , Learning Rate =  79.38926261462399\n",
      "Factor =  24  , Learning Rate =  65.45084971874765\n",
      "Factor =  25  , Learning Rate =  50.00000000000021\n",
      "Factor =  26  , Learning Rate =  34.549150281252786\n",
      "Factor =  27  , Learning Rate =  20.610737385376442\n",
      "Factor =  28  , Learning Rate =  9.549150281252679\n",
      "Factor =  29  , Learning Rate =  2.447174185242339\n",
      "Factor =  30  , Learning Rate =  0.0\n",
      "Factor =  31  , Learning Rate =  2.447174185242323\n",
      "Factor =  32  , Learning Rate =  9.549150281252638\n",
      "Factor =  33  , Learning Rate =  20.61073738537637\n",
      "Factor =  34  , Learning Rate =  34.54915028125268\n",
      "Factor =  35  , Learning Rate =  50.000000000000085\n",
      "Factor =  36  , Learning Rate =  65.45084971874749\n",
      "Factor =  37  , Learning Rate =  79.38926261462382\n",
      "Factor =  38  , Learning Rate =  90.45084971874755\n",
      "Factor =  39  , Learning Rate =  97.55282581475788\n",
      "Factor =  40  , Learning Rate =  100.00000000000023\n",
      "Factor =  41  , Learning Rate =  97.55282581475794\n",
      "Factor =  42  , Learning Rate =  90.4508497187476\n",
      "Factor =  43  , Learning Rate =  79.38926261462386\n",
      "Factor =  44  , Learning Rate =  65.45084971874763\n",
      "Factor =  45  , Learning Rate =  50.000000000000135\n",
      "Factor =  46  , Learning Rate =  34.54915028125273\n",
      "Factor =  47  , Learning Rate =  20.61073738537634\n",
      "Factor =  48  , Learning Rate =  9.549150281252667\n",
      "Factor =  49  , Learning Rate =  2.4471741852423627\n",
      "Factor =  50  , Learning Rate =  0.0\n",
      "Factor =  51  , Learning Rate =  2.447174185242323\n",
      "Factor =  52  , Learning Rate =  9.54915028125276\n",
      "Factor =  53  , Learning Rate =  20.610737385376712\n",
      "Factor =  54  , Learning Rate =  34.549150281253134\n",
      "Factor =  55  , Learning Rate =  50.00000000000084\n",
      "Factor =  56  , Learning Rate =  65.45084971874836\n",
      "Factor =  57  , Learning Rate =  79.3892626146248\n",
      "Factor =  58  , Learning Rate =  90.45084971874876\n",
      "Factor =  59  , Learning Rate =  97.55282581475915\n",
      "Factor =  60  , Learning Rate =  100.00000000000153\n",
      "Factor =  61  , Learning Rate =  97.55282581475916\n",
      "Factor =  62  , Learning Rate =  90.45084971874878\n",
      "Factor =  63  , Learning Rate =  79.38926261462484\n",
      "Factor =  64  , Learning Rate =  65.4508497187484\n",
      "Factor =  65  , Learning Rate =  50.000000000000895\n",
      "Factor =  66  , Learning Rate =  34.54915028125319\n",
      "Factor =  67  , Learning Rate =  20.610737385376762\n",
      "Factor =  68  , Learning Rate =  9.549150281252802\n",
      "Factor =  69  , Learning Rate =  2.447174185242344\n",
      "Factor =  70  , Learning Rate =  0.0\n",
      "Factor =  71  , Learning Rate =  2.447174185242323\n",
      "Factor =  72  , Learning Rate =  9.549150281252562\n",
      "Factor =  73  , Learning Rate =  20.610737385376144\n",
      "Factor =  74  , Learning Rate =  34.54915028125242\n",
      "Factor =  75  , Learning Rate =  49.99999999999964\n",
      "Factor =  76  , Learning Rate =  65.45084971874704\n",
      "Factor =  77  , Learning Rate =  79.38926261462333\n",
      "Factor =  78  , Learning Rate =  90.45084971874695\n",
      "Factor =  79  , Learning Rate =  97.55282581475726\n",
      "Factor =  80  , Learning Rate =  99.99999999999956\n",
      "Factor =  81  , Learning Rate =  97.5528258147573\n",
      "Factor =  82  , Learning Rate =  90.45084971874711\n",
      "Factor =  83  , Learning Rate =  79.38926261462328\n",
      "Factor =  84  , Learning Rate =  65.45084971874712\n",
      "Factor =  85  , Learning Rate =  49.99999999999974\n",
      "Factor =  86  , Learning Rate =  34.54915028125253\n",
      "Factor =  87  , Learning Rate =  20.610737385376368\n",
      "Factor =  88  , Learning Rate =  9.549150281252723\n",
      "Factor =  89  , Learning Rate =  2.4471741852423015\n",
      "Factor =  90  , Learning Rate =  0.0\n",
      "Factor =  91  , Learning Rate =  2.447174185242323\n",
      "Factor =  92  , Learning Rate =  9.549150281252766\n",
      "Factor =  93  , Learning Rate =  20.6107373853766\n",
      "Factor =  94  , Learning Rate =  34.54915028125337\n",
      "Factor =  95  , Learning Rate =  50.00000000000094\n",
      "Factor =  96  , Learning Rate =  65.4508497187485\n",
      "Factor =  97  , Learning Rate =  79.38926261462497\n",
      "Factor =  98  , Learning Rate =  90.45084971874887\n",
      "Factor =  99  , Learning Rate =  97.55282581475944\n"
     ]
    },
    {
     "data": {
      "text/plain": [
       "[<matplotlib.lines.Line2D at 0x29bd16c2c70>]"
      ]
     },
     "execution_count": 8,
     "metadata": {},
     "output_type": "execute_result"
    },
    {
     "data": {
      "image/png": "[encoded data removed]",
      "text/plain": [
       "<Figure size 432x288 with 1 Axes>"
      ]
     },
     "metadata": {
      "needs_background": "light"
     },
     "output_type": "display_data"
    }
   ],
   "source": [
    "\n",
    "model = torch.nn.Linear(2, 1)\n",
    "optimizer = torch.optim.SGD(model.parameters(), lr=100)\n",
    "scheduler = torch.optim.lr_scheduler.CosineAnnealingLR(optimizer, T_max=10, eta_min=0)\n",
    "lrs = []\n",
    "\n",
    "\n",
    "for i in range(100):\n",
    "    optimizer.step()\n",
    "    lrs.append(optimizer.param_groups[0][\"lr\"])\n",
    "    print(\"Factor = \",i,\" , Learning Rate = \",optimizer.param_groups[0][\"lr\"])\n",
    "    scheduler.step()\n",
    "\n",
    "plt.plot(lrs)\n"
   ]
  },
  {
   "cell_type": "markdown",
   "metadata": {},
   "source": [
    "# 7. CyclicLR - triangular\n",
    "\n"
   ]
  },
  {
   "cell_type": "code",
   "execution_count": 9,
   "metadata": {},
   "outputs": [
    {
     "name": "stdout",
     "output_type": "stream",
     "text": [
      "Factor =  0  , Learning Rate =  0.001\n",
      "Factor =  1  , Learning Rate =  0.02080000000000002\n",
      "Factor =  2  , Learning Rate =  0.0406\n",
      "Factor =  3  , Learning Rate =  0.06040000000000001\n",
      "Factor =  4  , Learning Rate =  0.0802\n",
      "Factor =  5  , Learning Rate =  0.1\n",
      "Factor =  6  , Learning Rate =  0.0802\n",
      "Factor =  7  , Learning Rate =  0.06040000000000001\n",
      "Factor =  8  , Learning Rate =  0.0406\n",
      "Factor =  9  , Learning Rate =  0.02080000000000002\n",
      "Factor =  10  , Learning Rate =  0.001\n",
      "Factor =  11  , Learning Rate =  0.02080000000000002\n",
      "Factor =  12  , Learning Rate =  0.04060000000000004\n",
      "Factor =  13  , Learning Rate =  0.06039999999999997\n",
      "Factor =  14  , Learning Rate =  0.0802\n",
      "Factor =  15  , Learning Rate =  0.1\n",
      "Factor =  16  , Learning Rate =  0.0802\n",
      "Factor =  17  , Learning Rate =  0.06039999999999997\n",
      "Factor =  18  , Learning Rate =  0.04060000000000004\n",
      "Factor =  19  , Learning Rate =  0.02080000000000002\n",
      "Factor =  20  , Learning Rate =  0.001\n",
      "Factor =  21  , Learning Rate =  0.02080000000000002\n",
      "Factor =  22  , Learning Rate =  0.04060000000000004\n",
      "Factor =  23  , Learning Rate =  0.06039999999999997\n",
      "Factor =  24  , Learning Rate =  0.0802\n",
      "Factor =  25  , Learning Rate =  0.1\n",
      "Factor =  26  , Learning Rate =  0.0802\n",
      "Factor =  27  , Learning Rate =  0.06039999999999997\n",
      "Factor =  28  , Learning Rate =  0.04060000000000004\n",
      "Factor =  29  , Learning Rate =  0.02080000000000002\n",
      "Factor =  30  , Learning Rate =  0.001\n",
      "Factor =  31  , Learning Rate =  0.020799999999999933\n",
      "Factor =  32  , Learning Rate =  0.04060000000000004\n",
      "Factor =  33  , Learning Rate =  0.06039999999999997\n",
      "Factor =  34  , Learning Rate =  0.08020000000000008\n",
      "Factor =  35  , Learning Rate =  0.1\n",
      "Factor =  36  , Learning Rate =  0.08020000000000008\n",
      "Factor =  37  , Learning Rate =  0.06039999999999997\n",
      "Factor =  38  , Learning Rate =  0.04060000000000004\n",
      "Factor =  39  , Learning Rate =  0.020799999999999933\n",
      "Factor =  40  , Learning Rate =  0.001\n",
      "Factor =  41  , Learning Rate =  0.020799999999999933\n",
      "Factor =  42  , Learning Rate =  0.04060000000000004\n",
      "Factor =  43  , Learning Rate =  0.06039999999999997\n",
      "Factor =  44  , Learning Rate =  0.08020000000000008\n",
      "Factor =  45  , Learning Rate =  0.1\n",
      "Factor =  46  , Learning Rate =  0.08020000000000008\n",
      "Factor =  47  , Learning Rate =  0.06039999999999997\n",
      "Factor =  48  , Learning Rate =  0.04060000000000004\n",
      "Factor =  49  , Learning Rate =  0.020799999999999933\n",
      "Factor =  50  , Learning Rate =  0.001\n",
      "Factor =  51  , Learning Rate =  0.020799999999999933\n",
      "Factor =  52  , Learning Rate =  0.04060000000000004\n",
      "Factor =  53  , Learning Rate =  0.06039999999999997\n",
      "Factor =  54  , Learning Rate =  0.08020000000000008\n",
      "Factor =  55  , Learning Rate =  0.1\n",
      "Factor =  56  , Learning Rate =  0.08020000000000008\n",
      "Factor =  57  , Learning Rate =  0.06039999999999997\n",
      "Factor =  58  , Learning Rate =  0.04060000000000004\n",
      "Factor =  59  , Learning Rate =  0.020799999999999933\n",
      "Factor =  60  , Learning Rate =  0.001\n",
      "Factor =  61  , Learning Rate =  0.020799999999999933\n",
      "Factor =  62  , Learning Rate =  0.04060000000000004\n",
      "Factor =  63  , Learning Rate =  0.06039999999999997\n",
      "Factor =  64  , Learning Rate =  0.08020000000000008\n",
      "Factor =  65  , Learning Rate =  0.1\n",
      "Factor =  66  , Learning Rate =  0.08020000000000008\n",
      "Factor =  67  , Learning Rate =  0.06039999999999997\n",
      "Factor =  68  , Learning Rate =  0.04060000000000004\n",
      "Factor =  69  , Learning Rate =  0.020799999999999933\n",
      "Factor =  70  , Learning Rate =  0.001\n",
      "Factor =  71  , Learning Rate =  0.020799999999999933\n",
      "Factor =  72  , Learning Rate =  0.040599999999999865\n",
      "Factor =  73  , Learning Rate =  0.06040000000000014\n",
      "Factor =  74  , Learning Rate =  0.08020000000000008\n",
      "Factor =  75  , Learning Rate =  0.1\n",
      "Factor =  76  , Learning Rate =  0.08020000000000008\n",
      "Factor =  77  , Learning Rate =  0.06040000000000014\n",
      "Factor =  78  , Learning Rate =  0.040599999999999865\n",
      "Factor =  79  , Learning Rate =  0.020799999999999933\n",
      "Factor =  80  , Learning Rate =  0.001\n",
      "Factor =  81  , Learning Rate =  0.020799999999999933\n",
      "Factor =  82  , Learning Rate =  0.040599999999999865\n",
      "Factor =  83  , Learning Rate =  0.06040000000000014\n",
      "Factor =  84  , Learning Rate =  0.08020000000000008\n",
      "Factor =  85  , Learning Rate =  0.1\n",
      "Factor =  86  , Learning Rate =  0.08020000000000008\n",
      "Factor =  87  , Learning Rate =  0.06040000000000014\n",
      "Factor =  88  , Learning Rate =  0.040599999999999865\n",
      "Factor =  89  , Learning Rate =  0.020799999999999933\n",
      "Factor =  90  , Learning Rate =  0.001\n",
      "Factor =  91  , Learning Rate =  0.020799999999999933\n",
      "Factor =  92  , Learning Rate =  0.040599999999999865\n",
      "Factor =  93  , Learning Rate =  0.06040000000000014\n",
      "Factor =  94  , Learning Rate =  0.08020000000000008\n",
      "Factor =  95  , Learning Rate =  0.1\n",
      "Factor =  96  , Learning Rate =  0.08020000000000008\n",
      "Factor =  97  , Learning Rate =  0.06040000000000014\n",
      "Factor =  98  , Learning Rate =  0.040599999999999865\n",
      "Factor =  99  , Learning Rate =  0.020799999999999933\n"
     ]
    },
    {
     "data": {
      "text/plain": [
       "[<matplotlib.lines.Line2D at 0x29bd172a8b0>]"
      ]
     },
     "execution_count": 9,
     "metadata": {},
     "output_type": "execute_result"
    },
    {
     "data": {
      "image/png": "[encoded data removed]",
      "text/plain": [
       "<Figure size 432x288 with 1 Axes>"
      ]
     },
     "metadata": {
      "needs_background": "light"
     },
     "output_type": "display_data"
    }
   ],
   "source": [
    "\n",
    "model = torch.nn.Linear(2, 1)\n",
    "optimizer = torch.optim.SGD(model.parameters(), lr=0.1)\n",
    "scheduler = torch.optim.lr_scheduler.CyclicLR(optimizer, base_lr=0.001, max_lr=0.1,step_size_up=5,mode=\"triangular\")\n",
    "lrs = []\n",
    "\n",
    "\n",
    "for i in range(100):\n",
    "    optimizer.step()\n",
    "    lrs.append(optimizer.param_groups[0][\"lr\"])\n",
    "    print(\"Factor = \",i,\" , Learning Rate = \",optimizer.param_groups[0][\"lr\"])\n",
    "    scheduler.step()\n",
    "\n",
    "plt.plot(lrs)\n"
   ]
  },
  {
   "cell_type": "markdown",
   "metadata": {},
   "source": [
    "# 7. CyclicLR - triangular2\n"
   ]
  },
  {
   "cell_type": "code",
   "execution_count": 10,
   "metadata": {},
   "outputs": [
    {
     "name": "stdout",
     "output_type": "stream",
     "text": [
      "Factor =  0  , Learning Rate =  0.001\n",
      "Factor =  1  , Learning Rate =  0.02080000000000002\n",
      "Factor =  2  , Learning Rate =  0.0406\n",
      "Factor =  3  , Learning Rate =  0.06040000000000001\n",
      "Factor =  4  , Learning Rate =  0.0802\n",
      "Factor =  5  , Learning Rate =  0.1\n",
      "Factor =  6  , Learning Rate =  0.0802\n",
      "Factor =  7  , Learning Rate =  0.06040000000000001\n",
      "Factor =  8  , Learning Rate =  0.0406\n",
      "Factor =  9  , Learning Rate =  0.02080000000000002\n",
      "Factor =  10  , Learning Rate =  0.001\n",
      "Factor =  11  , Learning Rate =  0.01090000000000001\n",
      "Factor =  12  , Learning Rate =  0.02080000000000002\n",
      "Factor =  13  , Learning Rate =  0.030699999999999984\n",
      "Factor =  14  , Learning Rate =  0.0406\n",
      "Factor =  15  , Learning Rate =  0.0505\n",
      "Factor =  16  , Learning Rate =  0.0406\n",
      "Factor =  17  , Learning Rate =  0.030699999999999984\n",
      "Factor =  18  , Learning Rate =  0.02080000000000002\n",
      "Factor =  19  , Learning Rate =  0.01090000000000001\n",
      "Factor =  20  , Learning Rate =  0.001\n",
      "Factor =  21  , Learning Rate =  0.005950000000000005\n",
      "Factor =  22  , Learning Rate =  0.01090000000000001\n",
      "Factor =  23  , Learning Rate =  0.015849999999999993\n",
      "Factor =  24  , Learning Rate =  0.0208\n",
      "Factor =  25  , Learning Rate =  0.025750000000000002\n",
      "Factor =  26  , Learning Rate =  0.0208\n",
      "Factor =  27  , Learning Rate =  0.015849999999999993\n",
      "Factor =  28  , Learning Rate =  0.01090000000000001\n",
      "Factor =  29  , Learning Rate =  0.005950000000000005\n",
      "Factor =  30  , Learning Rate =  0.001\n",
      "Factor =  31  , Learning Rate =  0.0034749999999999916\n",
      "Factor =  32  , Learning Rate =  0.005950000000000005\n",
      "Factor =  33  , Learning Rate =  0.008424999999999995\n",
      "Factor =  34  , Learning Rate =  0.01090000000000001\n",
      "Factor =  35  , Learning Rate =  0.013375000000000001\n",
      "Factor =  36  , Learning Rate =  0.01090000000000001\n",
      "Factor =  37  , Learning Rate =  0.008424999999999995\n",
      "Factor =  38  , Learning Rate =  0.005950000000000005\n",
      "Factor =  39  , Learning Rate =  0.0034749999999999916\n",
      "Factor =  40  , Learning Rate =  0.001\n",
      "Factor =  41  , Learning Rate =  0.0022374999999999956\n",
      "Factor =  42  , Learning Rate =  0.0034750000000000024\n",
      "Factor =  43  , Learning Rate =  0.004712499999999998\n",
      "Factor =  44  , Learning Rate =  0.005950000000000005\n",
      "Factor =  45  , Learning Rate =  0.0071875\n",
      "Factor =  46  , Learning Rate =  0.005950000000000005\n",
      "Factor =  47  , Learning Rate =  0.004712499999999998\n",
      "Factor =  48  , Learning Rate =  0.0034750000000000024\n",
      "Factor =  49  , Learning Rate =  0.0022374999999999956\n",
      "Factor =  50  , Learning Rate =  0.001\n",
      "Factor =  51  , Learning Rate =  0.0016187499999999978\n",
      "Factor =  52  , Learning Rate =  0.002237500000000001\n",
      "Factor =  53  , Learning Rate =  0.002856249999999999\n",
      "Factor =  54  , Learning Rate =  0.0034750000000000024\n",
      "Factor =  55  , Learning Rate =  0.00409375\n",
      "Factor =  56  , Learning Rate =  0.0034750000000000024\n",
      "Factor =  57  , Learning Rate =  0.002856249999999999\n",
      "Factor =  58  , Learning Rate =  0.002237500000000001\n",
      "Factor =  59  , Learning Rate =  0.0016187499999999978\n",
      "Factor =  60  , Learning Rate =  0.001\n",
      "Factor =  61  , Learning Rate =  0.001309374999999999\n",
      "Factor =  62  , Learning Rate =  0.0016187500000000006\n",
      "Factor =  63  , Learning Rate =  0.0019281249999999995\n",
      "Factor =  64  , Learning Rate =  0.002237500000000001\n",
      "Factor =  65  , Learning Rate =  0.002546875\n",
      "Factor =  66  , Learning Rate =  0.002237500000000001\n",
      "Factor =  67  , Learning Rate =  0.0019281249999999995\n",
      "Factor =  68  , Learning Rate =  0.0016187500000000006\n",
      "Factor =  69  , Learning Rate =  0.001309374999999999\n",
      "Factor =  70  , Learning Rate =  0.001\n",
      "Factor =  71  , Learning Rate =  0.0011546874999999995\n",
      "Factor =  72  , Learning Rate =  0.001309374999999999\n",
      "Factor =  73  , Learning Rate =  0.0014640625000000012\n",
      "Factor =  74  , Learning Rate =  0.0016187500000000006\n",
      "Factor =  75  , Learning Rate =  0.0017734375\n",
      "Factor =  76  , Learning Rate =  0.0016187500000000006\n",
      "Factor =  77  , Learning Rate =  0.0014640625000000012\n",
      "Factor =  78  , Learning Rate =  0.001309374999999999\n",
      "Factor =  79  , Learning Rate =  0.0011546874999999995\n",
      "Factor =  80  , Learning Rate =  0.001\n",
      "Factor =  81  , Learning Rate =  0.0010773437499999997\n",
      "Factor =  82  , Learning Rate =  0.0011546874999999995\n",
      "Factor =  83  , Learning Rate =  0.0012320312500000005\n",
      "Factor =  84  , Learning Rate =  0.0013093750000000002\n",
      "Factor =  85  , Learning Rate =  0.00138671875\n",
      "Factor =  86  , Learning Rate =  0.0013093750000000002\n",
      "Factor =  87  , Learning Rate =  0.0012320312500000005\n",
      "Factor =  88  , Learning Rate =  0.0011546874999999995\n",
      "Factor =  89  , Learning Rate =  0.0010773437499999997\n",
      "Factor =  90  , Learning Rate =  0.001\n",
      "Factor =  91  , Learning Rate =  0.0010386718749999999\n",
      "Factor =  92  , Learning Rate =  0.0010773437499999997\n",
      "Factor =  93  , Learning Rate =  0.0011160156250000003\n",
      "Factor =  94  , Learning Rate =  0.0011546875000000001\n",
      "Factor =  95  , Learning Rate =  0.001193359375\n",
      "Factor =  96  , Learning Rate =  0.0011546875000000001\n",
      "Factor =  97  , Learning Rate =  0.0011160156250000003\n",
      "Factor =  98  , Learning Rate =  0.0010773437499999997\n",
      "Factor =  99  , Learning Rate =  0.0010386718749999999\n"
     ]
    },
    {
     "data": {
      "text/plain": [
       "[<matplotlib.lines.Line2D at 0x29bd17985e0>]"
      ]
     },
     "execution_count": 10,
     "metadata": {},
     "output_type": "execute_result"
    },
    {
     "data": {
      "image/png": "[encoded data removed]",
      "text/plain": [
       "<Figure size 432x288 with 1 Axes>"
      ]
     },
     "metadata": {
      "needs_background": "light"
     },
     "output_type": "display_data"
    }
   ],
   "source": [
    "\n",
    "model = torch.nn.Linear(2, 1)\n",
    "optimizer = torch.optim.SGD(model.parameters(), lr=0.1)\n",
    "scheduler = torch.optim.lr_scheduler.CyclicLR(optimizer, base_lr=0.001, max_lr=0.1,step_size_up=5,mode=\"triangular2\")\n",
    "lrs = []\n",
    "\n",
    "\n",
    "for i in range(100):\n",
    "    optimizer.step()\n",
    "    lrs.append(optimizer.param_groups[0][\"lr\"])\n",
    "    print(\"Factor = \",i,\" , Learning Rate = \",optimizer.param_groups[0][\"lr\"])\n",
    "    scheduler.step()\n",
    "\n",
    "plt.plot(lrs)\n"
   ]
  },
  {
   "cell_type": "markdown",
   "metadata": {},
   "source": [
    "# 7. CyclicLR - exp_range\n"
   ]
  },
  {
   "cell_type": "code",
   "execution_count": 11,
   "metadata": {},
   "outputs": [
    {
     "name": "stdout",
     "output_type": "stream",
     "text": [
      "Factor =  0  , Learning Rate =  0.001\n",
      "Factor =  1  , Learning Rate =  0.017830000000000016\n",
      "Factor =  2  , Learning Rate =  0.029610999999999995\n",
      "Factor =  3  , Learning Rate =  0.037479025\n",
      "Factor =  4  , Learning Rate =  0.04234289499999999\n",
      "Factor =  5  , Learning Rate =  0.0449268259375\n",
      "Factor =  6  , Learning Rate =  0.030870241637499993\n",
      "Factor =  7  , Learning Rate =  0.02004227904390625\n",
      "Factor =  8  , Learning Rate =  0.011790624791546873\n",
      "Factor =  9  , Learning Rate =  0.005586015536407425\n",
      "Factor =  10  , Learning Rate =  0.001\n",
      "Factor =  11  , Learning Rate =  0.004313396225054365\n",
      "Factor =  12  , Learning Rate =  0.006632773582592419\n",
      "Factor =  13  , Learning Rate =  0.008181786317805324\n",
      "Factor =  14  , Learning Rate =  0.009139357826846037\n",
      "Factor =  15  , Learning Rate =  0.009648067691023915\n",
      "Factor =  16  , Learning Rate =  0.006880686029896261\n",
      "Factor =  17  , Learning Rate =  0.004748937344058865\n",
      "Factor =  18  , Learning Rate =  0.0031243978283000268\n",
      "Factor =  19  , Learning Rate =  0.0019028690770275113\n",
      "Factor =  20  , Learning Rate =  0.001\n",
      "Factor =  21  , Learning Rate =  0.001652322908152377\n",
      "Factor =  22  , Learning Rate =  0.0021089489438590407\n",
      "Factor =  23  , Learning Rate =  0.002413909903420275\n",
      "Factor =  24  , Learning Rate =  0.002602431223876312\n",
      "Factor =  25  , Learning Rate =  0.002702583175368582\n",
      "Factor =  26  , Learning Rate =  0.002157756559250635\n",
      "Factor =  27  , Learning Rate =  0.0017380698065222796\n",
      "Factor =  28  , Learning Rate =  0.0014182395570292924\n",
      "Factor =  29  , Learning Rate =  0.0011777518117374493\n",
      "Factor =  30  , Learning Rate =  0.001\n",
      "Factor =  31  , Learning Rate =  0.0011284256839803066\n",
      "Factor =  32  , Learning Rate =  0.001218323662766522\n",
      "Factor =  33  , Learning Rate =  0.0012783626700273152\n",
      "Factor =  34  , Learning Rate =  0.0013154776926976243\n",
      "Factor =  35  , Learning Rate =  0.0013351950484912255\n",
      "Factor =  36  , Learning Rate =  0.0012279326329740336\n",
      "Factor =  37  , Learning Rate =  0.0011453070535209463\n",
      "Factor =  38  , Learning Rate =  0.0010823406636618696\n",
      "Factor =  39  , Learning Rate =  0.0010349947820562945\n",
      "Factor =  40  , Learning Rate =  0.001\n",
      "Factor =  41  , Learning Rate =  0.0010252837300356729\n",
      "Factor =  42  , Learning Rate =  0.001042982341060644\n",
      "Factor =  43  , Learning Rate =  0.001054802484852321\n",
      "Factor =  44  , Learning Rate =  0.0010621094828326303\n",
      "Factor =  45  , Learning Rate =  0.0010659913255096696\n",
      "Factor =  46  , Learning Rate =  0.0010448741013465753\n",
      "Factor =  47  , Learning Rate =  0.0010286072396084418\n",
      "Factor =  48  , Learning Rate =  0.0010162107691114503\n",
      "Factor =  49  , Learning Rate =  0.0010068895768723665\n",
      "Factor =  50  , Learning Rate =  0.001\n",
      "Factor =  51  , Learning Rate =  0.0010049777192902847\n",
      "Factor =  52  , Learning Rate =  0.001008462122793484\n",
      "Factor =  53  , Learning Rate =  0.0010107892065616922\n",
      "Factor =  54  , Learning Rate =  0.0010122277674365844\n",
      "Factor =  55  , Learning Rate =  0.0010129920029013709\n",
      "Factor =  56  , Learning Rate =  0.0010088345619729323\n",
      "Factor =  57  , Learning Rate =  0.0010056320332577442\n",
      "Factor =  58  , Learning Rate =  0.0010031914855127219\n",
      "Factor =  59  , Learning Rate =  0.0010013563813429068\n",
      "Factor =  60  , Learning Rate =  0.001\n",
      "Factor =  61  , Learning Rate =  0.0010009799855202502\n",
      "Factor =  62  , Learning Rate =  0.0010016659753844252\n",
      "Factor =  63  , Learning Rate =  0.001002124118615142\n",
      "Factor =  64  , Learning Rate =  0.0010024073344304944\n",
      "Factor =  65  , Learning Rate =  0.0010025577928324003\n",
      "Factor =  66  , Learning Rate =  0.0010017392991260323\n",
      "Factor =  67  , Learning Rate =  0.0010011088031928455\n",
      "Factor =  68  , Learning Rate =  0.0010006283218092792\n",
      "Factor =  69  , Learning Rate =  0.0010002670367689436\n",
      "Factor =  70  , Learning Rate =  0.001\n",
      "Factor =  71  , Learning Rate =  0.0010001929340655619\n",
      "Factor =  72  , Learning Rate =  0.001000327987911455\n",
      "Factor =  73  , Learning Rate =  0.0010004181845871052\n",
      "Factor =  74  , Learning Rate =  0.0010004739425320526\n",
      "Factor =  75  , Learning Rate =  0.0010005035639403057\n",
      "Factor =  76  , Learning Rate =  0.001000342423479408\n",
      "Factor =  77  , Learning Rate =  0.0010002182949681226\n",
      "Factor =  78  , Learning Rate =  0.0010001237004819362\n",
      "Factor =  79  , Learning Rate =  0.0010000525727048228\n",
      "Factor =  80  , Learning Rate =  0.001\n",
      "Factor =  81  , Learning Rate =  0.0010000379837792346\n",
      "Factor =  82  , Learning Rate =  0.0010000645724246987\n",
      "Factor =  83  , Learning Rate =  0.0010000823298414907\n",
      "Factor =  84  , Learning Rate =  0.0010000933071536895\n",
      "Factor =  85  , Learning Rate =  0.0010000991388507952\n",
      "Factor =  86  , Learning Rate =  0.0010000674144185408\n",
      "Factor =  87  , Learning Rate =  0.0010000429766918197\n",
      "Factor =  88  , Learning Rate =  0.0010000243534586978\n",
      "Factor =  89  , Learning Rate =  0.0010000103502199465\n",
      "Factor =  90  , Learning Rate =  0.001\n",
      "Factor =  91  , Learning Rate =  0.0010000074780339115\n",
      "Factor =  92  , Learning Rate =  0.0010000127126576495\n",
      "Factor =  93  , Learning Rate =  0.001000016208638503\n",
      "Factor =  94  , Learning Rate =  0.0010000183697903033\n",
      "Factor =  95  , Learning Rate =  0.0010000195179021973\n",
      "Factor =  96  , Learning Rate =  0.0010000132721734941\n",
      "Factor =  97  , Learning Rate =  0.0010000084610106025\n",
      "Factor =  98  , Learning Rate =  0.0010000047945726749\n",
      "Factor =  99  , Learning Rate =  0.0010000020376933869\n"
     ]
    },
    {
     "data": {
      "text/plain": [
       "[<matplotlib.lines.Line2D at 0x29bd17fc1f0>]"
      ]
     },
     "execution_count": 11,
     "metadata": {},
     "output_type": "execute_result"
    },
    {
     "data": {
      "image/png": "[encoded data removed]",
      "text/plain": [
       "<Figure size 432x288 with 1 Axes>"
      ]
     },
     "metadata": {
      "needs_background": "light"
     },
     "output_type": "display_data"
    }
   ],
   "source": [
    "\n",
    "model = torch.nn.Linear(2, 1)\n",
    "optimizer = torch.optim.SGD(model.parameters(), lr=100)\n",
    "scheduler = torch.optim.lr_scheduler.CyclicLR(optimizer, base_lr=0.001, max_lr=0.1,step_size_up=5,mode=\"exp_range\",gamma=0.85)\n",
    "lrs = []\n",
    "\n",
    "\n",
    "for i in range(100):\n",
    "    optimizer.step()\n",
    "    lrs.append(optimizer.param_groups[0][\"lr\"])\n",
    "    print(\"Factor = \",i,\" , Learning Rate = \",optimizer.param_groups[0][\"lr\"])\n",
    "    scheduler.step()\n",
    "\n",
    "plt.plot(lrs)\n"
   ]
  },
  {
   "cell_type": "markdown",
   "metadata": {},
   "source": [
    "# 8.OneCycleLR - cos\n",
    "\n",
    "Sets the learning rate of each parameter group according to the 1cycle learning rate policy. The 1cycle policy anneals the learning rate from an initial learning rate to some maximum learning rate and then from that maximum learning rate to some minimum learning rate much lower than the initial learning rate. This policy was initially described in the paper Super-Convergence: Very Fast Training of Neural Networks Using Large Learning Rates.\n",
    "\n",
    "The 1cycle learning rate policy changes the learning rate after every batch. step should be called after a batch has been used for training.\n",
    "\n",
    "This scheduler is not chainable."
   ]
  },
  {
   "cell_type": "code",
   "execution_count": 12,
   "metadata": {},
   "outputs": [
    {
     "name": "stdout",
     "output_type": "stream",
     "text": [
      "Factor =  0  , Learning Rate =  0.0040000000000000036\n",
      "Factor =  1  , Learning Rate =  0.004281378056590748\n",
      "Factor =  2  , Learning Rate =  0.00512221332591585\n",
      "Factor =  3  , Learning Rate =  0.006512647783225481\n",
      "Factor =  4  , Learning Rate =  0.008436379855794068\n",
      "Factor =  5  , Learning Rate =  0.010870855543955726\n",
      "Factor =  6  , Learning Rate =  0.013787532846129102\n",
      "Factor =  7  , Learning Rate =  0.017152216387689725\n",
      "Factor =  8  , Learning Rate =  0.02092545833047227\n",
      "Factor =  9  , Learning Rate =  0.02506302086260566\n",
      "Factor =  10  , Learning Rate =  0.029516394846410082\n",
      "Factor =  11  , Learning Rate =  0.03423336854368411\n",
      "Factor =  12  , Learning Rate =  0.03915863975059739\n",
      "Factor =  13  , Learning Rate =  0.04423446416546729\n",
      "Factor =  14  , Learning Rate =  0.04940133238789996\n",
      "Factor =  15  , Learning Rate =  0.05459866761210004\n",
      "Factor =  16  , Learning Rate =  0.05976553583453271\n",
      "Factor =  17  , Learning Rate =  0.0648413602494026\n",
      "Factor =  18  , Learning Rate =  0.0697666314563159\n",
      "Factor =  19  , Learning Rate =  0.07448360515358993\n",
      "Factor =  20  , Learning Rate =  0.07893697913739435\n",
      "Factor =  21  , Learning Rate =  0.08307454166952773\n",
      "Factor =  22  , Learning Rate =  0.08684778361231027\n",
      "Factor =  23  , Learning Rate =  0.0902124671538709\n",
      "Factor =  24  , Learning Rate =  0.09312914445604428\n",
      "Factor =  25  , Learning Rate =  0.09556362014420594\n",
      "Factor =  26  , Learning Rate =  0.09748735221677451\n",
      "Factor =  27  , Learning Rate =  0.09887778667408416\n",
      "Factor =  28  , Learning Rate =  0.09971862194340926\n",
      "Factor =  29  , Learning Rate =  0.1\n",
      "Factor =  30  , Learning Rate =  0.09994965352845243\n",
      "Factor =  31  , Learning Rate =  0.09979871550490317\n",
      "Factor =  32  , Learning Rate =  0.09954748989844439\n",
      "Factor =  33  , Learning Rate =  0.09919648264401378\n",
      "Factor =  34  , Learning Rate =  0.09874640062350874\n",
      "Factor =  35  , Learning Rate =  0.09819815024222053\n",
      "Factor =  36  , Learning Rate =  0.09755283560345443\n",
      "Factor =  37  , Learning Rate =  0.09681175628501273\n",
      "Factor =  38  , Learning Rate =  0.09597640472201803\n",
      "Factor =  39  , Learning Rate =  0.09504846320134738\n",
      "Factor =  40  , Learning Rate =  0.09402980047373054\n",
      "Factor =  41  , Learning Rate =  0.09292246799033459\n",
      "Factor =  42  , Learning Rate =  0.09172869577141439\n",
      "Factor =  43  , Learning Rate =  0.0904508879153485\n",
      "Factor =  44  , Learning Rate =  0.089091617757105\n",
      "Factor =  45  , Learning Rate =  0.08765362268588736\n",
      "Factor =  46  , Learning Rate =  0.08613979863239682\n",
      "Factor =  47  , Learning Rate =  0.08455319423681344\n",
      "Factor =  48  , Learning Rate =  0.08289700470924045\n",
      "Factor =  49  , Learning Rate =  0.0811745653949763\n",
      "Factor =  50  , Learning Rate =  0.0793893450575732\n",
      "Factor =  51  , Learning Rate =  0.07754493889320883\n",
      "Factor =  52  , Learning Rate =  0.07564506129043984\n",
      "Factor =  53  , Learning Rate =  0.07369353834991745\n",
      "Factor =  54  , Learning Rate =  0.07169430017913009\n",
      "Factor =  55  , Learning Rate =  0.06965137297768985\n",
      "Factor =  56  , Learning Rate =  0.06756887092910233\n",
      "Factor =  57  , Learning Rate =  0.0654509879153485\n",
      "Factor =  58  , Learning Rate =  0.06330198907096464\n",
      "Factor =  59  , Learning Rate =  0.06112620219362893\n",
      "Factor =  60  , Learning Rate =  0.05892800902855288\n",
      "Factor =  61  , Learning Rate =  0.05671183644422961\n",
      "Factor =  62  , Learning Rate =  0.0544821475173099\n",
      "Factor =  63  , Learning Rate =  0.05224343254455968\n",
      "Factor =  64  , Learning Rate =  0.0500002\n",
      "Factor =  65  , Learning Rate =  0.04775696745544034\n",
      "Factor =  66  , Learning Rate =  0.04551825248269011\n",
      "Factor =  67  , Learning Rate =  0.043288563555770404\n",
      "Factor =  68  , Learning Rate =  0.04107239097144713\n",
      "Factor =  69  , Learning Rate =  0.03887419780637107\n",
      "Factor =  70  , Learning Rate =  0.03669841092903536\n",
      "Factor =  71  , Learning Rate =  0.03454941208465151\n",
      "Factor =  72  , Learning Rate =  0.03243152907089768\n",
      "Factor =  73  , Learning Rate =  0.030349027022310158\n",
      "Factor =  74  , Learning Rate =  0.028306099820869922\n",
      "Factor =  75  , Learning Rate =  0.026306861650082565\n",
      "Factor =  76  , Learning Rate =  0.024355338709560182\n",
      "Factor =  77  , Learning Rate =  0.022455461106791173\n",
      "Factor =  78  , Learning Rate =  0.02061105494242681\n",
      "Factor =  79  , Learning Rate =  0.0188258346050237\n",
      "Factor =  80  , Learning Rate =  0.017103395290759566\n",
      "Factor =  81  , Learning Rate =  0.015447205763186572\n",
      "Factor =  82  , Learning Rate =  0.013860601367603195\n",
      "Factor =  83  , Learning Rate =  0.012346777314112658\n",
      "Factor =  84  , Learning Rate =  0.010908782242895008\n",
      "Factor =  85  , Learning Rate =  0.009549512084651508\n",
      "Factor =  86  , Learning Rate =  0.008271704228585617\n",
      "Factor =  87  , Learning Rate =  0.007077932009665416\n",
      "Factor =  88  , Learning Rate =  0.005970599526269472\n",
      "Factor =  89  , Learning Rate =  0.004951936798652629\n",
      "Factor =  90  , Learning Rate =  0.004023995277981982\n",
      "Factor =  91  , Learning Rate =  0.003188643714987268\n",
      "Factor =  92  , Learning Rate =  0.0024475643965455826\n",
      "Factor =  93  , Learning Rate =  0.0018022497577794773\n",
      "Factor =  94  , Learning Rate =  0.0012539993764912555\n",
      "Factor =  95  , Learning Rate =  0.0008039173559862364\n",
      "Factor =  96  , Learning Rate =  0.0004529101015556186\n",
      "Factor =  97  , Learning Rate =  0.00020168449509684564\n",
      "Factor =  98  , Learning Rate =  5.07464715475788e-05\n",
      "Factor =  99  , Learning Rate =  4e-07\n"
     ]
    },
    {
     "data": {
      "text/plain": [
       "[<matplotlib.lines.Line2D at 0x29bd185a730>]"
      ]
     },
     "execution_count": 12,
     "metadata": {},
     "output_type": "execute_result"
    },
    {
     "data": {
      "image/png": "[encoded data removed]",
      "text/plain": [
       "<Figure size 432x288 with 1 Axes>"
      ]
     },
     "metadata": {
      "needs_background": "light"
     },
     "output_type": "display_data"
    }
   ],
   "source": [
    "\n",
    "model = torch.nn.Linear(2, 1)\n",
    "optimizer = torch.optim.SGD(model.parameters(), lr=0.1)\n",
    "scheduler = torch.optim.lr_scheduler.OneCycleLR(optimizer, max_lr=0.1, steps_per_epoch=10, epochs=10)\n",
    "lrs = []\n",
    "\n",
    "\n",
    "for i in range(100):\n",
    "    optimizer.step()\n",
    "    lrs.append(optimizer.param_groups[0][\"lr\"])\n",
    "    print(\"Factor = \",i,\" , Learning Rate = \",optimizer.param_groups[0][\"lr\"])\n",
    "    scheduler.step()\n",
    "\n",
    "plt.plot(lrs)\n"
   ]
  },
  {
   "cell_type": "markdown",
   "metadata": {},
   "source": [
    "# 8.OneCycleLR - linear"
   ]
  },
  {
   "cell_type": "code",
   "execution_count": 13,
   "metadata": {},
   "outputs": [
    {
     "name": "stdout",
     "output_type": "stream",
     "text": [
      "Factor =  0  , Learning Rate =  0.004\n",
      "Factor =  1  , Learning Rate =  0.007310344827586207\n",
      "Factor =  2  , Learning Rate =  0.010620689655172414\n",
      "Factor =  3  , Learning Rate =  0.013931034482758621\n",
      "Factor =  4  , Learning Rate =  0.017241379310344827\n",
      "Factor =  5  , Learning Rate =  0.020551724137931035\n",
      "Factor =  6  , Learning Rate =  0.023862068965517243\n",
      "Factor =  7  , Learning Rate =  0.02717241379310345\n",
      "Factor =  8  , Learning Rate =  0.030482758620689655\n",
      "Factor =  9  , Learning Rate =  0.033793103448275866\n",
      "Factor =  10  , Learning Rate =  0.037103448275862067\n",
      "Factor =  11  , Learning Rate =  0.04041379310344828\n",
      "Factor =  12  , Learning Rate =  0.04372413793103448\n",
      "Factor =  13  , Learning Rate =  0.047034482758620696\n",
      "Factor =  14  , Learning Rate =  0.0503448275862069\n",
      "Factor =  15  , Learning Rate =  0.05365517241379311\n",
      "Factor =  16  , Learning Rate =  0.05696551724137931\n",
      "Factor =  17  , Learning Rate =  0.06027586206896551\n",
      "Factor =  18  , Learning Rate =  0.06358620689655173\n",
      "Factor =  19  , Learning Rate =  0.06689655172413793\n",
      "Factor =  20  , Learning Rate =  0.07020689655172414\n",
      "Factor =  21  , Learning Rate =  0.07351724137931034\n",
      "Factor =  22  , Learning Rate =  0.07682758620689656\n",
      "Factor =  23  , Learning Rate =  0.08013793103448277\n",
      "Factor =  24  , Learning Rate =  0.08344827586206897\n",
      "Factor =  25  , Learning Rate =  0.08675862068965517\n",
      "Factor =  26  , Learning Rate =  0.09006896551724139\n",
      "Factor =  27  , Learning Rate =  0.09337931034482759\n",
      "Factor =  28  , Learning Rate =  0.0966896551724138\n",
      "Factor =  29  , Learning Rate =  0.1\n",
      "Factor =  30  , Learning Rate =  0.09857143428571429\n",
      "Factor =  31  , Learning Rate =  0.09714286857142858\n",
      "Factor =  32  , Learning Rate =  0.09571430285714286\n",
      "Factor =  33  , Learning Rate =  0.09428573714285715\n",
      "Factor =  34  , Learning Rate =  0.09285717142857143\n",
      "Factor =  35  , Learning Rate =  0.09142860571428572\n",
      "Factor =  36  , Learning Rate =  0.09000004\n",
      "Factor =  37  , Learning Rate =  0.0885714742857143\n",
      "Factor =  38  , Learning Rate =  0.08714290857142858\n",
      "Factor =  39  , Learning Rate =  0.08571434285714286\n",
      "Factor =  40  , Learning Rate =  0.08428577714285715\n",
      "Factor =  41  , Learning Rate =  0.08285721142857143\n",
      "Factor =  42  , Learning Rate =  0.08142864571428572\n",
      "Factor =  43  , Learning Rate =  0.08000008\n",
      "Factor =  44  , Learning Rate =  0.0785715142857143\n",
      "Factor =  45  , Learning Rate =  0.07714294857142857\n",
      "Factor =  46  , Learning Rate =  0.07571438285714285\n",
      "Factor =  47  , Learning Rate =  0.07428581714285715\n",
      "Factor =  48  , Learning Rate =  0.07285725142857144\n",
      "Factor =  49  , Learning Rate =  0.07142868571428572\n",
      "Factor =  50  , Learning Rate =  0.07000012\n",
      "Factor =  51  , Learning Rate =  0.06857155428571429\n",
      "Factor =  52  , Learning Rate =  0.06714298857142857\n",
      "Factor =  53  , Learning Rate =  0.06571442285714285\n",
      "Factor =  54  , Learning Rate =  0.06428585714285714\n",
      "Factor =  55  , Learning Rate =  0.06285729142857144\n",
      "Factor =  56  , Learning Rate =  0.06142872571428572\n",
      "Factor =  57  , Learning Rate =  0.06000016\n",
      "Factor =  58  , Learning Rate =  0.05857159428571428\n",
      "Factor =  59  , Learning Rate =  0.05714302857142858\n",
      "Factor =  60  , Learning Rate =  0.05571446285714286\n",
      "Factor =  61  , Learning Rate =  0.05428589714285715\n",
      "Factor =  62  , Learning Rate =  0.05285733142857143\n",
      "Factor =  63  , Learning Rate =  0.051428765714285715\n",
      "Factor =  64  , Learning Rate =  0.0500002\n",
      "Factor =  65  , Learning Rate =  0.048571634285714295\n",
      "Factor =  66  , Learning Rate =  0.047143068571428574\n",
      "Factor =  67  , Learning Rate =  0.04571450285714286\n",
      "Factor =  68  , Learning Rate =  0.04428593714285714\n",
      "Factor =  69  , Learning Rate =  0.042857371428571434\n",
      "Factor =  70  , Learning Rate =  0.04142880571428571\n",
      "Factor =  71  , Learning Rate =  0.040000240000000006\n",
      "Factor =  72  , Learning Rate =  0.038571674285714286\n",
      "Factor =  73  , Learning Rate =  0.03714310857142858\n",
      "Factor =  74  , Learning Rate =  0.03571454285714286\n",
      "Factor =  75  , Learning Rate =  0.03428597714285714\n",
      "Factor =  76  , Learning Rate =  0.03285741142857143\n",
      "Factor =  77  , Learning Rate =  0.03142884571428571\n",
      "Factor =  78  , Learning Rate =  0.030000280000000004\n",
      "Factor =  79  , Learning Rate =  0.028571714285714284\n",
      "Factor =  80  , Learning Rate =  0.027143148571428577\n",
      "Factor =  81  , Learning Rate =  0.025714582857142856\n",
      "Factor =  82  , Learning Rate =  0.02428601714285715\n",
      "Factor =  83  , Learning Rate =  0.02285745142857143\n",
      "Factor =  84  , Learning Rate =  0.02142888571428571\n",
      "Factor =  85  , Learning Rate =  0.020000319999999988\n",
      "Factor =  86  , Learning Rate =  0.01857175428571428\n",
      "Factor =  87  , Learning Rate =  0.01714318857142856\n",
      "Factor =  88  , Learning Rate =  0.015714622857142854\n",
      "Factor =  89  , Learning Rate =  0.014286057142857148\n",
      "Factor =  90  , Learning Rate =  0.012857491428571427\n",
      "Factor =  91  , Learning Rate =  0.01142892571428572\n",
      "Factor =  92  , Learning Rate =  0.01000036\n",
      "Factor =  93  , Learning Rate =  0.008571794285714293\n",
      "Factor =  94  , Learning Rate =  0.007143228571428573\n",
      "Factor =  95  , Learning Rate =  0.005714662857142852\n",
      "Factor =  96  , Learning Rate =  0.0042860971428571315\n",
      "Factor =  97  , Learning Rate =  0.002857531428571425\n",
      "Factor =  98  , Learning Rate =  0.0014289657142857043\n",
      "Factor =  99  , Learning Rate =  3.999999999976245e-07\n"
     ]
    },
    {
     "data": {
      "text/plain": [
       "[<matplotlib.lines.Line2D at 0x29bd1884fd0>]"
      ]
     },
     "execution_count": 13,
     "metadata": {},
     "output_type": "execute_result"
    },
    {
     "data": {
      "image/png": "[encoded data removed]",
      "text/plain": [
       "<Figure size 432x288 with 1 Axes>"
      ]
     },
     "metadata": {
      "needs_background": "light"
     },
     "output_type": "display_data"
    }
   ],
   "source": [
    "\n",
    "model = torch.nn.Linear(2, 1)\n",
    "optimizer = torch.optim.SGD(model.parameters(), lr=0.1)\n",
    "scheduler = torch.optim.lr_scheduler.OneCycleLR(optimizer, max_lr=0.1, steps_per_epoch=10, epochs=10,anneal_strategy='linear')\n",
    "lrs = []\n",
    "\n",
    "\n",
    "for i in range(100):\n",
    "    optimizer.step()\n",
    "    lrs.append(optimizer.param_groups[0][\"lr\"])\n",
    "    print(\"Factor = \",i,\" , Learning Rate = \",optimizer.param_groups[0][\"lr\"])\n",
    "    scheduler.step()\n",
    "\n",
    "plt.plot(lrs)\n"
   ]
  },
  {
   "cell_type": "markdown",
   "metadata": {},
   "source": [
    "# 9.CosineAnnealingWarmRestarts\n",
    "Set the learning rate of each parameter group using a cosine annealing schedule, and restarts after Ti epochs.\n",
    "\n",
    "\n",
    "$$\n",
    "\\eta_{t}=\\eta_{\\min }+\\frac{1}{2}\\left(\\eta_{\\max }-\\eta_{\\min }\\right)\\left(1+\\cos \\left(\\frac{T_{\\operatorname{cur}}}{T_{i}} \\pi\\right)\\right)\n",
    "$$\n"
   ]
  },
  {
   "cell_type": "code",
   "execution_count": 14,
   "metadata": {},
   "outputs": [
    {
     "data": {
      "text/plain": [
       "[<matplotlib.lines.Line2D at 0x7f5344c93ad0>]"
      ]
     },
     "execution_count": 14,
     "metadata": {},
     "output_type": "execute_result"
    },
    {
     "data": {
      "image/png": "[encoded data removed]",
      "text/plain": [
       "<Figure size 432x288 with 1 Axes>"
      ]
     },
     "metadata": {
      "needs_background": "light"
     },
     "output_type": "display_data"
    }
   ],
   "source": [
    "import torch\n",
    "import matplotlib.pyplot as plt\n",
    "\n",
    "model = torch.nn.Linear(2, 1)\n",
    "optimizer = torch.optim.SGD(model.parameters(), lr=0.1)\n",
    "lr_sched = torch.optim.lr_scheduler.CosineAnnealingWarmRestarts(optimizer, T_0=10, T_mult=1, eta_min=0.001, last_epoch=-1)\n",
    "\n",
    "\n",
    "lrs = []\n",
    "\n",
    "for i in range(100):\n",
    "    lr_sched.step()\n",
    "    lrs.append(\n",
    "        optimizer.param_groups[0][\"lr\"]\n",
    "    )\n",
    "\n",
    "plt.plot(lrs)"
   ]
  },
  {
   "cell_type": "code",
   "execution_count": 15,
   "metadata": {},
   "outputs": [
    {
     "data": {
      "text/plain": [
       "[<matplotlib.lines.Line2D at 0x7f5344bffa10>]"
      ]
     },
     "execution_count": 15,
     "metadata": {},
     "output_type": "execute_result"
    },
    {
     "data": {
      "image/png": "[encoded data removed]",
      "text/plain": [
       "<Figure size 432x288 with 1 Axes>"
      ]
     },
     "metadata": {
      "needs_background": "light"
     },
     "output_type": "display_data"
    }
   ],
   "source": [
    "import torch\n",
    "import matplotlib.pyplot as plt\n",
    "\n",
    "model = torch.nn.Linear(2, 1)\n",
    "optimizer = torch.optim.SGD(model.parameters(), lr=0.1)\n",
    "lr_sched = torch.optim.lr_scheduler.CosineAnnealingWarmRestarts(optimizer, T_0=10, T_mult=2, eta_min=0.01, last_epoch=-1)\n",
    "\n",
    "\n",
    "lrs = []\n",
    "\n",
    "for i in range(300):\n",
    "    lr_sched.step()\n",
    "    lrs.append(\n",
    "        optimizer.param_groups[0][\"lr\"]\n",
    "    )\n",
    "\n",
    "plt.plot(lrs)"
   ]
  },
  {
   "cell_type": "code",
   "execution_count": null,
   "metadata": {},
   "outputs": [],
   "source": []
  }
 ],
 "metadata": {
  "kernelspec": {
   "display_name": "Python 3 (ipykernel)",
   "language": "python",
   "name": "python3"
  },
  "language_info": {
   "codemirror_mode": {
    "name": "ipython",
    "version": 3
   },
   "file_extension": ".py",
   "mimetype": "text/x-python",
   "name": "python",
   "nbconvert_exporter": "python",
   "pygments_lexer": "ipython3",
   "version": "3.9.7"
  }
 },
 "nbformat": 4,
 "nbformat_minor": 4
}
